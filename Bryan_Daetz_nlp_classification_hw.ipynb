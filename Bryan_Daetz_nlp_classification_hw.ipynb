{
  "nbformat": 4,
  "nbformat_minor": 0,
  "metadata": {
    "colab": {
      "name": "Bryan_Daetz_nlp_classification_hw.ipynb",
      "provenance": [],
      "collapsed_sections": [],
      "include_colab_link": true
    },
    "kernelspec": {
      "name": "python3",
      "display_name": "Python 3"
    }
  },
  "cells": [
    {
      "cell_type": "markdown",
      "metadata": {
        "id": "view-in-github",
        "colab_type": "text"
      },
      "source": [
        "<a href=\"https://colab.research.google.com/github/bryandaetz1/NLP_Review_Text/blob/master/Bryan_Daetz_nlp_classification_hw.ipynb\" target=\"_parent\"><img src=\"https://colab.research.google.com/assets/colab-badge.svg\" alt=\"Open In Colab\"/></a>"
      ]
    },
    {
      "cell_type": "code",
      "metadata": {
        "id": "OGNl7QPn3JOf",
        "colab_type": "code",
        "colab": {
          "base_uri": "https://localhost:8080/",
          "height": 140
        },
        "outputId": "49a0f375-324f-47a0-e1b8-29b125a30e26"
      },
      "source": [
        "import pandas as pd\n",
        "import numpy as np\n",
        "from matplotlib import pyplot as plt\n",
        "import seaborn as sns\n",
        "from sklearn.feature_extraction.text import CountVectorizer\n",
        "from sklearn.metrics import confusion_matrix\n",
        "from sklearn import metrics\n",
        "from sklearn.model_selection import train_test_split\n",
        "from sklearn.linear_model import LogisticRegression\n",
        "from sklearn.naive_bayes import MultinomialNB\n",
        "from sklearn.ensemble import RandomForestClassifier\n",
        "from sklearn.metrics import accuracy_score \n",
        "from sklearn.metrics import classification_report\n",
        "from nltk.stem.porter import PorterStemmer\n",
        "from nltk import word_tokenize, WordNetLemmatizer\n",
        "import nltk\n",
        "import re \n",
        "import nltk\n",
        "nltk.download('stopwords')\n",
        "nltk.download('wordnet')\n",
        "nltk.download('punkt')"
      ],
      "execution_count": 162,
      "outputs": [
        {
          "output_type": "stream",
          "text": [
            "[nltk_data] Downloading package stopwords to /root/nltk_data...\n",
            "[nltk_data]   Package stopwords is already up-to-date!\n",
            "[nltk_data] Downloading package wordnet to /root/nltk_data...\n",
            "[nltk_data]   Package wordnet is already up-to-date!\n",
            "[nltk_data] Downloading package punkt to /root/nltk_data...\n",
            "[nltk_data]   Package punkt is already up-to-date!\n"
          ],
          "name": "stdout"
        },
        {
          "output_type": "execute_result",
          "data": {
            "text/plain": [
              "True"
            ]
          },
          "metadata": {
            "tags": []
          },
          "execution_count": 162
        }
      ]
    },
    {
      "cell_type": "code",
      "metadata": {
        "id": "NZ4MDjkv4R1s",
        "colab_type": "code",
        "colab": {
          "base_uri": "https://localhost:8080/",
          "height": 195
        },
        "outputId": "df565571-6614-402b-ab07-cff9044fe2d7"
      },
      "source": [
        "data = pd.read_csv('https://raw.githubusercontent.com/cjflanagan/cs68/master/Womens%20Clothing%20E-Commerce%20Reviews%20-%20Womens%20Clothing%20E-Commerce%20Reviews.csv')\n",
        "data.head()"
      ],
      "execution_count": 163,
      "outputs": [
        {
          "output_type": "execute_result",
          "data": {
            "text/html": [
              "<div>\n",
              "<style scoped>\n",
              "    .dataframe tbody tr th:only-of-type {\n",
              "        vertical-align: middle;\n",
              "    }\n",
              "\n",
              "    .dataframe tbody tr th {\n",
              "        vertical-align: top;\n",
              "    }\n",
              "\n",
              "    .dataframe thead th {\n",
              "        text-align: right;\n",
              "    }\n",
              "</style>\n",
              "<table border=\"1\" class=\"dataframe\">\n",
              "  <thead>\n",
              "    <tr style=\"text-align: right;\">\n",
              "      <th></th>\n",
              "      <th>Age</th>\n",
              "      <th>Title</th>\n",
              "      <th>Review Text</th>\n",
              "      <th>Recommended IND</th>\n",
              "      <th>Division Name</th>\n",
              "      <th>Department Name</th>\n",
              "      <th>Class Name</th>\n",
              "    </tr>\n",
              "  </thead>\n",
              "  <tbody>\n",
              "    <tr>\n",
              "      <th>0</th>\n",
              "      <td>33</td>\n",
              "      <td>NaN</td>\n",
              "      <td>Absolutely wonderful - silky and sexy and comf...</td>\n",
              "      <td>1</td>\n",
              "      <td>Initmates</td>\n",
              "      <td>Intimate</td>\n",
              "      <td>Intimates</td>\n",
              "    </tr>\n",
              "    <tr>\n",
              "      <th>1</th>\n",
              "      <td>34</td>\n",
              "      <td>NaN</td>\n",
              "      <td>Love this dress!  it's sooo pretty.  i happene...</td>\n",
              "      <td>1</td>\n",
              "      <td>General</td>\n",
              "      <td>Dresses</td>\n",
              "      <td>Dresses</td>\n",
              "    </tr>\n",
              "    <tr>\n",
              "      <th>2</th>\n",
              "      <td>60</td>\n",
              "      <td>Some major design flaws</td>\n",
              "      <td>I had such high hopes for this dress and reall...</td>\n",
              "      <td>0</td>\n",
              "      <td>General</td>\n",
              "      <td>Dresses</td>\n",
              "      <td>Dresses</td>\n",
              "    </tr>\n",
              "    <tr>\n",
              "      <th>3</th>\n",
              "      <td>50</td>\n",
              "      <td>My favorite buy!</td>\n",
              "      <td>I love, love, love this jumpsuit. it's fun, fl...</td>\n",
              "      <td>1</td>\n",
              "      <td>General Petite</td>\n",
              "      <td>Bottoms</td>\n",
              "      <td>Pants</td>\n",
              "    </tr>\n",
              "    <tr>\n",
              "      <th>4</th>\n",
              "      <td>47</td>\n",
              "      <td>Flattering shirt</td>\n",
              "      <td>This shirt is very flattering to all due to th...</td>\n",
              "      <td>1</td>\n",
              "      <td>General</td>\n",
              "      <td>Tops</td>\n",
              "      <td>Blouses</td>\n",
              "    </tr>\n",
              "  </tbody>\n",
              "</table>\n",
              "</div>"
            ],
            "text/plain": [
              "   Age                    Title  ... Department Name  Class Name\n",
              "0   33                      NaN  ...        Intimate   Intimates\n",
              "1   34                      NaN  ...         Dresses     Dresses\n",
              "2   60  Some major design flaws  ...         Dresses     Dresses\n",
              "3   50         My favorite buy!  ...         Bottoms       Pants\n",
              "4   47         Flattering shirt  ...            Tops     Blouses\n",
              "\n",
              "[5 rows x 7 columns]"
            ]
          },
          "metadata": {
            "tags": []
          },
          "execution_count": 163
        }
      ]
    },
    {
      "cell_type": "code",
      "metadata": {
        "id": "wOa5zgSY-ZcU",
        "colab_type": "code",
        "colab": {
          "base_uri": "https://localhost:8080/",
          "height": 34
        },
        "outputId": "de775796-7f08-471e-ca81-c20dd4b043c1"
      },
      "source": [
        "data.shape"
      ],
      "execution_count": 164,
      "outputs": [
        {
          "output_type": "execute_result",
          "data": {
            "text/plain": [
              "(23486, 7)"
            ]
          },
          "metadata": {
            "tags": []
          },
          "execution_count": 164
        }
      ]
    },
    {
      "cell_type": "code",
      "metadata": {
        "id": "mft_3GDs-cRa",
        "colab_type": "code",
        "colab": {
          "base_uri": "https://localhost:8080/",
          "height": 158
        },
        "outputId": "c144ca0a-4f2b-4857-def3-a22729067e21"
      },
      "source": [
        "data.dtypes"
      ],
      "execution_count": 165,
      "outputs": [
        {
          "output_type": "execute_result",
          "data": {
            "text/plain": [
              "Age                 int64\n",
              "Title              object\n",
              "Review Text        object\n",
              "Recommended IND     int64\n",
              "Division Name      object\n",
              "Department Name    object\n",
              "Class Name         object\n",
              "dtype: object"
            ]
          },
          "metadata": {
            "tags": []
          },
          "execution_count": 165
        }
      ]
    },
    {
      "cell_type": "code",
      "metadata": {
        "id": "_Cz6B-sX-d41",
        "colab_type": "code",
        "colab": {
          "base_uri": "https://localhost:8080/",
          "height": 158
        },
        "outputId": "ac980e19-a73f-4086-e4f9-d17c228c4a77"
      },
      "source": [
        "data.isna().sum()"
      ],
      "execution_count": 166,
      "outputs": [
        {
          "output_type": "execute_result",
          "data": {
            "text/plain": [
              "Age                   0\n",
              "Title              3810\n",
              "Review Text         845\n",
              "Recommended IND       0\n",
              "Division Name        14\n",
              "Department Name      14\n",
              "Class Name           14\n",
              "dtype: int64"
            ]
          },
          "metadata": {
            "tags": []
          },
          "execution_count": 166
        }
      ]
    },
    {
      "cell_type": "code",
      "metadata": {
        "id": "K6zb1YPW-yBd",
        "colab_type": "code",
        "colab": {
          "base_uri": "https://localhost:8080/",
          "height": 34
        },
        "outputId": "ec59f382-f98f-46b3-9705-72e7ef41d5b4"
      },
      "source": [
        "#dropping null values of Review Text\n",
        "data.drop(data.loc[data['Review Text'].isna()].index.tolist(), axis = 0, inplace = True)\n",
        "data.shape"
      ],
      "execution_count": 167,
      "outputs": [
        {
          "output_type": "execute_result",
          "data": {
            "text/plain": [
              "(22641, 7)"
            ]
          },
          "metadata": {
            "tags": []
          },
          "execution_count": 167
        }
      ]
    },
    {
      "cell_type": "code",
      "metadata": {
        "id": "0r2E_GYmt897",
        "colab_type": "code",
        "colab": {
          "base_uri": "https://localhost:8080/",
          "height": 281
        },
        "outputId": "cc857fc0-7c52-407e-896d-ab50acbe6e20"
      },
      "source": [
        "#getting value counts for target variable\n",
        "data['Recommended IND'].value_counts().plot(kind = 'barh', title = 'Recommended')\n",
        "plt.show()"
      ],
      "execution_count": 168,
      "outputs": [
        {
          "output_type": "display_data",
          "data": {
            "image/png": "[encoded data removed]",
            "text/plain": [
              "<Figure size 432x288 with 1 Axes>"
            ]
          },
          "metadata": {
            "tags": [],
            "needs_background": "light"
          }
        }
      ]
    },
    {
      "cell_type": "markdown",
      "metadata": {
        "id": "WJCx30hXVQy8",
        "colab_type": "text"
      },
      "source": [
        "# NLP Processing Review Text Feature\n"
      ]
    },
    {
      "cell_type": "code",
      "metadata": {
        "id": "V9GWxH18UzAk",
        "colab_type": "code",
        "colab": {
          "base_uri": "https://localhost:8080/",
          "height": 279
        },
        "outputId": "da226b13-da53-4298-e076-05de6e6f4c4d"
      },
      "source": [
        "#plotting length of review text\n",
        "length = data['Review Text'].str.len()\n",
        "sns.distplot(length)\n",
        "plt.show()"
      ],
      "execution_count": 169,
      "outputs": [
        {
          "output_type": "display_data",
          "data": {
            "image/png": "[encoded data removed]",
            "text/plain": [
              "<Figure size 432x288 with 1 Axes>"
            ]
          },
          "metadata": {
            "tags": [],
            "needs_background": "light"
          }
        }
      ]
    },
    {
      "cell_type": "code",
      "metadata": {
        "id": "ifViPGYj5IEA",
        "colab_type": "code",
        "colab": {
          "base_uri": "https://localhost:8080/",
          "height": 210
        },
        "outputId": "38d7548f-b03a-4494-c2bd-6f48bc159c5b"
      },
      "source": [
        "data['Review Text'].head(10)"
      ],
      "execution_count": 170,
      "outputs": [
        {
          "output_type": "execute_result",
          "data": {
            "text/plain": [
              "0    Absolutely wonderful - silky and sexy and comf...\n",
              "1    Love this dress!  it's sooo pretty.  i happene...\n",
              "2    I had such high hopes for this dress and reall...\n",
              "3    I love, love, love this jumpsuit. it's fun, fl...\n",
              "4    This shirt is very flattering to all due to th...\n",
              "5    I love tracy reese dresses, but this one is no...\n",
              "6    I aded this in my basket at hte last mintue to...\n",
              "7    I ordered this in carbon for store pick up, an...\n",
              "8    I love this dress. i usually get an xs but it ...\n",
              "9    I'm 5\"5' and 125 lbs. i ordered the s petite t...\n",
              "Name: Review Text, dtype: object"
            ]
          },
          "metadata": {
            "tags": []
          },
          "execution_count": 170
        }
      ]
    },
    {
      "cell_type": "code",
      "metadata": {
        "id": "F6mEhcHEVPWX",
        "colab_type": "code",
        "colab": {}
      },
      "source": [
        "#getting set of English stopwords\n",
        "from nltk.corpus import stopwords\n",
        "stopword_set = set(stopwords.words('english'))\n",
        "\n",
        "#NLP processing\n",
        "lemma = WordNetLemmatizer()"
      ],
      "execution_count": 171,
      "outputs": []
    },
    {
      "cell_type": "code",
      "metadata": {
        "id": "d_GFSV4v2h8n",
        "colab_type": "code",
        "colab": {
          "base_uri": "https://localhost:8080/",
          "height": 213
        },
        "outputId": "0c94d934-7e83-4b61-c6eb-25c55fe84656"
      },
      "source": [
        "#clean the text\n",
        "text_reviews = list()\n",
        "for review in data['Review Text']:\n",
        "  text = re.sub('[^a-zA-z]',\" \", str(review))\n",
        "  text = text.lower()\n",
        "  text = word_tokenize(text, language = 'english')\n",
        "  text = [lemma.lemmatize(word) for word in text if(word) not in stopword_set]\n",
        "  text = ' '.join(text)\n",
        "  text_reviews.append(text)\n",
        "\n",
        "text_reviews[:10]"
      ],
      "execution_count": 172,
      "outputs": [
        {
          "output_type": "execute_result",
          "data": {
            "text/plain": [
              "['absolutely wonderful silky sexy comfortable',\n",
              " 'love dress sooo pretty happened find store glad bc never would ordered online bc petite bought petite love length hit little knee would definitely true midi someone truly petite',\n",
              " 'high hope dress really wanted work initially ordered petite small usual size found outrageously small small fact could zip reordered petite medium ok overall top half comfortable fit nicely bottom half tight layer several somewhat cheap net layer imo major design flaw net layer sewn directly zipper c',\n",
              " 'love love love jumpsuit fun flirty fabulous every time wear get nothing great compliment',\n",
              " 'shirt flattering due adjustable front tie perfect length wear legging sleeveless pair well cardigan love shirt',\n",
              " 'love tracy reese dress one petite foot tall usually wear p brand dress pretty package lot dress skirt long full overwhelmed small frame stranger alteration shortening narrowing skirt would take away embellishment garment love color idea style work returned dress',\n",
              " 'aded basket hte last mintue see would look like person store pick went teh darkler color pale hte color really gorgeous turn mathced everythiing trying prefectly little baggy hte x hte msallet size bummer petite decided jkeep though said matvehd everything ejans pant skirt waas trying ] kept oops',\n",
              " 'ordered carbon store pick ton stuff always try used top pair skirt pant everything went color really nice charcoal shimmer went well pencil skirt flare pant etc compaint bit big sleeve long go petite also bit loose xx kept wil ldecide later since light color already sold hte smallest size',\n",
              " 'love dress usually get x run little snug bust ordered size flattering feminine usual retailer flair style',\n",
              " 'lb ordered petite make sure length long typically wear x regular retailer dress le busty b cup smaller petite fit perfectly snug tight love could dress party work love tulle longer fabric underneath']"
            ]
          },
          "metadata": {
            "tags": []
          },
          "execution_count": 172
        }
      ]
    },
    {
      "cell_type": "code",
      "metadata": {
        "id": "3AMviMML4WrP",
        "colab_type": "code",
        "colab": {}
      },
      "source": [
        "#create the B.O.W (bag of words) model\n",
        "cv = CountVectorizer(max_features = 1500)\n",
        "reviews = cv.fit_transform(text_reviews).toarray()"
      ],
      "execution_count": 173,
      "outputs": []
    },
    {
      "cell_type": "code",
      "metadata": {
        "id": "U1bTQg256Z_S",
        "colab_type": "code",
        "colab": {
          "base_uri": "https://localhost:8080/",
          "height": 244
        },
        "outputId": "cddb5e36-ed05-470f-d11d-0feb6c57354f"
      },
      "source": [
        "#covert reviews to dataframe\n",
        "reviews = pd.DataFrame(reviews, columns = cv.get_feature_names())\n",
        "reviews.head()"
      ],
      "execution_count": 174,
      "outputs": [
        {
          "output_type": "execute_result",
          "data": {
            "text/html": [
              "<div>\n",
              "<style scoped>\n",
              "    .dataframe tbody tr th:only-of-type {\n",
              "        vertical-align: middle;\n",
              "    }\n",
              "\n",
              "    .dataframe tbody tr th {\n",
              "        vertical-align: top;\n",
              "    }\n",
              "\n",
              "    .dataframe thead th {\n",
              "        text-align: right;\n",
              "    }\n",
              "</style>\n",
              "<table border=\"1\" class=\"dataframe\">\n",
              "  <thead>\n",
              "    <tr style=\"text-align: right;\">\n",
              "      <th></th>\n",
              "      <th>able</th>\n",
              "      <th>absolutely</th>\n",
              "      <th>accent</th>\n",
              "      <th>accentuates</th>\n",
              "      <th>accessory</th>\n",
              "      <th>accommodate</th>\n",
              "      <th>accurate</th>\n",
              "      <th>across</th>\n",
              "      <th>actual</th>\n",
              "      <th>actually</th>\n",
              "      <th>add</th>\n",
              "      <th>added</th>\n",
              "      <th>adding</th>\n",
              "      <th>addition</th>\n",
              "      <th>additional</th>\n",
              "      <th>adjust</th>\n",
              "      <th>adjustable</th>\n",
              "      <th>adorable</th>\n",
              "      <th>adore</th>\n",
              "      <th>advice</th>\n",
              "      <th>afraid</th>\n",
              "      <th>ag</th>\n",
              "      <th>age</th>\n",
              "      <th>ago</th>\n",
              "      <th>agree</th>\n",
              "      <th>ahead</th>\n",
              "      <th>air</th>\n",
              "      <th>airy</th>\n",
              "      <th>ala</th>\n",
              "      <th>allow</th>\n",
              "      <th>allows</th>\n",
              "      <th>almost</th>\n",
              "      <th>alone</th>\n",
              "      <th>along</th>\n",
              "      <th>already</th>\n",
              "      <th>also</th>\n",
              "      <th>alteration</th>\n",
              "      <th>altered</th>\n",
              "      <th>alternative</th>\n",
              "      <th>although</th>\n",
              "      <th>...</th>\n",
              "      <th>wonder</th>\n",
              "      <th>wonderful</th>\n",
              "      <th>wonderfully</th>\n",
              "      <th>wool</th>\n",
              "      <th>word</th>\n",
              "      <th>wore</th>\n",
              "      <th>work</th>\n",
              "      <th>worked</th>\n",
              "      <th>working</th>\n",
              "      <th>worn</th>\n",
              "      <th>worried</th>\n",
              "      <th>worry</th>\n",
              "      <th>worse</th>\n",
              "      <th>worth</th>\n",
              "      <th>would</th>\n",
              "      <th>woven</th>\n",
              "      <th>wow</th>\n",
              "      <th>wrap</th>\n",
              "      <th>wrinkle</th>\n",
              "      <th>wrinkled</th>\n",
              "      <th>wrist</th>\n",
              "      <th>write</th>\n",
              "      <th>wrong</th>\n",
              "      <th>xl</th>\n",
              "      <th>xsmall</th>\n",
              "      <th>xsp</th>\n",
              "      <th>xx</th>\n",
              "      <th>xxsp</th>\n",
              "      <th>yarn</th>\n",
              "      <th>year</th>\n",
              "      <th>yellow</th>\n",
              "      <th>yes</th>\n",
              "      <th>yesterday</th>\n",
              "      <th>yet</th>\n",
              "      <th>yoga</th>\n",
              "      <th>young</th>\n",
              "      <th>younger</th>\n",
              "      <th>zip</th>\n",
              "      <th>zipped</th>\n",
              "      <th>zipper</th>\n",
              "    </tr>\n",
              "  </thead>\n",
              "  <tbody>\n",
              "    <tr>\n",
              "      <th>0</th>\n",
              "      <td>0</td>\n",
              "      <td>1</td>\n",
              "      <td>0</td>\n",
              "      <td>0</td>\n",
              "      <td>0</td>\n",
              "      <td>0</td>\n",
              "      <td>0</td>\n",
              "      <td>0</td>\n",
              "      <td>0</td>\n",
              "      <td>0</td>\n",
              "      <td>0</td>\n",
              "      <td>0</td>\n",
              "      <td>0</td>\n",
              "      <td>0</td>\n",
              "      <td>0</td>\n",
              "      <td>0</td>\n",
              "      <td>0</td>\n",
              "      <td>0</td>\n",
              "      <td>0</td>\n",
              "      <td>0</td>\n",
              "      <td>0</td>\n",
              "      <td>0</td>\n",
              "      <td>0</td>\n",
              "      <td>0</td>\n",
              "      <td>0</td>\n",
              "      <td>0</td>\n",
              "      <td>0</td>\n",
              "      <td>0</td>\n",
              "      <td>0</td>\n",
              "      <td>0</td>\n",
              "      <td>0</td>\n",
              "      <td>0</td>\n",
              "      <td>0</td>\n",
              "      <td>0</td>\n",
              "      <td>0</td>\n",
              "      <td>0</td>\n",
              "      <td>0</td>\n",
              "      <td>0</td>\n",
              "      <td>0</td>\n",
              "      <td>0</td>\n",
              "      <td>...</td>\n",
              "      <td>0</td>\n",
              "      <td>1</td>\n",
              "      <td>0</td>\n",
              "      <td>0</td>\n",
              "      <td>0</td>\n",
              "      <td>0</td>\n",
              "      <td>0</td>\n",
              "      <td>0</td>\n",
              "      <td>0</td>\n",
              "      <td>0</td>\n",
              "      <td>0</td>\n",
              "      <td>0</td>\n",
              "      <td>0</td>\n",
              "      <td>0</td>\n",
              "      <td>0</td>\n",
              "      <td>0</td>\n",
              "      <td>0</td>\n",
              "      <td>0</td>\n",
              "      <td>0</td>\n",
              "      <td>0</td>\n",
              "      <td>0</td>\n",
              "      <td>0</td>\n",
              "      <td>0</td>\n",
              "      <td>0</td>\n",
              "      <td>0</td>\n",
              "      <td>0</td>\n",
              "      <td>0</td>\n",
              "      <td>0</td>\n",
              "      <td>0</td>\n",
              "      <td>0</td>\n",
              "      <td>0</td>\n",
              "      <td>0</td>\n",
              "      <td>0</td>\n",
              "      <td>0</td>\n",
              "      <td>0</td>\n",
              "      <td>0</td>\n",
              "      <td>0</td>\n",
              "      <td>0</td>\n",
              "      <td>0</td>\n",
              "      <td>0</td>\n",
              "    </tr>\n",
              "    <tr>\n",
              "      <th>1</th>\n",
              "      <td>0</td>\n",
              "      <td>0</td>\n",
              "      <td>0</td>\n",
              "      <td>0</td>\n",
              "      <td>0</td>\n",
              "      <td>0</td>\n",
              "      <td>0</td>\n",
              "      <td>0</td>\n",
              "      <td>0</td>\n",
              "      <td>0</td>\n",
              "      <td>0</td>\n",
              "      <td>0</td>\n",
              "      <td>0</td>\n",
              "      <td>0</td>\n",
              "      <td>0</td>\n",
              "      <td>0</td>\n",
              "      <td>0</td>\n",
              "      <td>0</td>\n",
              "      <td>0</td>\n",
              "      <td>0</td>\n",
              "      <td>0</td>\n",
              "      <td>0</td>\n",
              "      <td>0</td>\n",
              "      <td>0</td>\n",
              "      <td>0</td>\n",
              "      <td>0</td>\n",
              "      <td>0</td>\n",
              "      <td>0</td>\n",
              "      <td>0</td>\n",
              "      <td>0</td>\n",
              "      <td>0</td>\n",
              "      <td>0</td>\n",
              "      <td>0</td>\n",
              "      <td>0</td>\n",
              "      <td>0</td>\n",
              "      <td>0</td>\n",
              "      <td>0</td>\n",
              "      <td>0</td>\n",
              "      <td>0</td>\n",
              "      <td>0</td>\n",
              "      <td>...</td>\n",
              "      <td>0</td>\n",
              "      <td>0</td>\n",
              "      <td>0</td>\n",
              "      <td>0</td>\n",
              "      <td>0</td>\n",
              "      <td>0</td>\n",
              "      <td>0</td>\n",
              "      <td>0</td>\n",
              "      <td>0</td>\n",
              "      <td>0</td>\n",
              "      <td>0</td>\n",
              "      <td>0</td>\n",
              "      <td>0</td>\n",
              "      <td>0</td>\n",
              "      <td>2</td>\n",
              "      <td>0</td>\n",
              "      <td>0</td>\n",
              "      <td>0</td>\n",
              "      <td>0</td>\n",
              "      <td>0</td>\n",
              "      <td>0</td>\n",
              "      <td>0</td>\n",
              "      <td>0</td>\n",
              "      <td>0</td>\n",
              "      <td>0</td>\n",
              "      <td>0</td>\n",
              "      <td>0</td>\n",
              "      <td>0</td>\n",
              "      <td>0</td>\n",
              "      <td>0</td>\n",
              "      <td>0</td>\n",
              "      <td>0</td>\n",
              "      <td>0</td>\n",
              "      <td>0</td>\n",
              "      <td>0</td>\n",
              "      <td>0</td>\n",
              "      <td>0</td>\n",
              "      <td>0</td>\n",
              "      <td>0</td>\n",
              "      <td>0</td>\n",
              "    </tr>\n",
              "    <tr>\n",
              "      <th>2</th>\n",
              "      <td>0</td>\n",
              "      <td>0</td>\n",
              "      <td>0</td>\n",
              "      <td>0</td>\n",
              "      <td>0</td>\n",
              "      <td>0</td>\n",
              "      <td>0</td>\n",
              "      <td>0</td>\n",
              "      <td>0</td>\n",
              "      <td>0</td>\n",
              "      <td>0</td>\n",
              "      <td>0</td>\n",
              "      <td>0</td>\n",
              "      <td>0</td>\n",
              "      <td>0</td>\n",
              "      <td>0</td>\n",
              "      <td>0</td>\n",
              "      <td>0</td>\n",
              "      <td>0</td>\n",
              "      <td>0</td>\n",
              "      <td>0</td>\n",
              "      <td>0</td>\n",
              "      <td>0</td>\n",
              "      <td>0</td>\n",
              "      <td>0</td>\n",
              "      <td>0</td>\n",
              "      <td>0</td>\n",
              "      <td>0</td>\n",
              "      <td>0</td>\n",
              "      <td>0</td>\n",
              "      <td>0</td>\n",
              "      <td>0</td>\n",
              "      <td>0</td>\n",
              "      <td>0</td>\n",
              "      <td>0</td>\n",
              "      <td>0</td>\n",
              "      <td>0</td>\n",
              "      <td>0</td>\n",
              "      <td>0</td>\n",
              "      <td>0</td>\n",
              "      <td>...</td>\n",
              "      <td>0</td>\n",
              "      <td>0</td>\n",
              "      <td>0</td>\n",
              "      <td>0</td>\n",
              "      <td>0</td>\n",
              "      <td>0</td>\n",
              "      <td>1</td>\n",
              "      <td>0</td>\n",
              "      <td>0</td>\n",
              "      <td>0</td>\n",
              "      <td>0</td>\n",
              "      <td>0</td>\n",
              "      <td>0</td>\n",
              "      <td>0</td>\n",
              "      <td>0</td>\n",
              "      <td>0</td>\n",
              "      <td>0</td>\n",
              "      <td>0</td>\n",
              "      <td>0</td>\n",
              "      <td>0</td>\n",
              "      <td>0</td>\n",
              "      <td>0</td>\n",
              "      <td>0</td>\n",
              "      <td>0</td>\n",
              "      <td>0</td>\n",
              "      <td>0</td>\n",
              "      <td>0</td>\n",
              "      <td>0</td>\n",
              "      <td>0</td>\n",
              "      <td>0</td>\n",
              "      <td>0</td>\n",
              "      <td>0</td>\n",
              "      <td>0</td>\n",
              "      <td>0</td>\n",
              "      <td>0</td>\n",
              "      <td>0</td>\n",
              "      <td>0</td>\n",
              "      <td>1</td>\n",
              "      <td>0</td>\n",
              "      <td>1</td>\n",
              "    </tr>\n",
              "    <tr>\n",
              "      <th>3</th>\n",
              "      <td>0</td>\n",
              "      <td>0</td>\n",
              "      <td>0</td>\n",
              "      <td>0</td>\n",
              "      <td>0</td>\n",
              "      <td>0</td>\n",
              "      <td>0</td>\n",
              "      <td>0</td>\n",
              "      <td>0</td>\n",
              "      <td>0</td>\n",
              "      <td>0</td>\n",
              "      <td>0</td>\n",
              "      <td>0</td>\n",
              "      <td>0</td>\n",
              "      <td>0</td>\n",
              "      <td>0</td>\n",
              "      <td>0</td>\n",
              "      <td>0</td>\n",
              "      <td>0</td>\n",
              "      <td>0</td>\n",
              "      <td>0</td>\n",
              "      <td>0</td>\n",
              "      <td>0</td>\n",
              "      <td>0</td>\n",
              "      <td>0</td>\n",
              "      <td>0</td>\n",
              "      <td>0</td>\n",
              "      <td>0</td>\n",
              "      <td>0</td>\n",
              "      <td>0</td>\n",
              "      <td>0</td>\n",
              "      <td>0</td>\n",
              "      <td>0</td>\n",
              "      <td>0</td>\n",
              "      <td>0</td>\n",
              "      <td>0</td>\n",
              "      <td>0</td>\n",
              "      <td>0</td>\n",
              "      <td>0</td>\n",
              "      <td>0</td>\n",
              "      <td>...</td>\n",
              "      <td>0</td>\n",
              "      <td>0</td>\n",
              "      <td>0</td>\n",
              "      <td>0</td>\n",
              "      <td>0</td>\n",
              "      <td>0</td>\n",
              "      <td>0</td>\n",
              "      <td>0</td>\n",
              "      <td>0</td>\n",
              "      <td>0</td>\n",
              "      <td>0</td>\n",
              "      <td>0</td>\n",
              "      <td>0</td>\n",
              "      <td>0</td>\n",
              "      <td>0</td>\n",
              "      <td>0</td>\n",
              "      <td>0</td>\n",
              "      <td>0</td>\n",
              "      <td>0</td>\n",
              "      <td>0</td>\n",
              "      <td>0</td>\n",
              "      <td>0</td>\n",
              "      <td>0</td>\n",
              "      <td>0</td>\n",
              "      <td>0</td>\n",
              "      <td>0</td>\n",
              "      <td>0</td>\n",
              "      <td>0</td>\n",
              "      <td>0</td>\n",
              "      <td>0</td>\n",
              "      <td>0</td>\n",
              "      <td>0</td>\n",
              "      <td>0</td>\n",
              "      <td>0</td>\n",
              "      <td>0</td>\n",
              "      <td>0</td>\n",
              "      <td>0</td>\n",
              "      <td>0</td>\n",
              "      <td>0</td>\n",
              "      <td>0</td>\n",
              "    </tr>\n",
              "    <tr>\n",
              "      <th>4</th>\n",
              "      <td>0</td>\n",
              "      <td>0</td>\n",
              "      <td>0</td>\n",
              "      <td>0</td>\n",
              "      <td>0</td>\n",
              "      <td>0</td>\n",
              "      <td>0</td>\n",
              "      <td>0</td>\n",
              "      <td>0</td>\n",
              "      <td>0</td>\n",
              "      <td>0</td>\n",
              "      <td>0</td>\n",
              "      <td>0</td>\n",
              "      <td>0</td>\n",
              "      <td>0</td>\n",
              "      <td>0</td>\n",
              "      <td>1</td>\n",
              "      <td>0</td>\n",
              "      <td>0</td>\n",
              "      <td>0</td>\n",
              "      <td>0</td>\n",
              "      <td>0</td>\n",
              "      <td>0</td>\n",
              "      <td>0</td>\n",
              "      <td>0</td>\n",
              "      <td>0</td>\n",
              "      <td>0</td>\n",
              "      <td>0</td>\n",
              "      <td>0</td>\n",
              "      <td>0</td>\n",
              "      <td>0</td>\n",
              "      <td>0</td>\n",
              "      <td>0</td>\n",
              "      <td>0</td>\n",
              "      <td>0</td>\n",
              "      <td>0</td>\n",
              "      <td>0</td>\n",
              "      <td>0</td>\n",
              "      <td>0</td>\n",
              "      <td>0</td>\n",
              "      <td>...</td>\n",
              "      <td>0</td>\n",
              "      <td>0</td>\n",
              "      <td>0</td>\n",
              "      <td>0</td>\n",
              "      <td>0</td>\n",
              "      <td>0</td>\n",
              "      <td>0</td>\n",
              "      <td>0</td>\n",
              "      <td>0</td>\n",
              "      <td>0</td>\n",
              "      <td>0</td>\n",
              "      <td>0</td>\n",
              "      <td>0</td>\n",
              "      <td>0</td>\n",
              "      <td>0</td>\n",
              "      <td>0</td>\n",
              "      <td>0</td>\n",
              "      <td>0</td>\n",
              "      <td>0</td>\n",
              "      <td>0</td>\n",
              "      <td>0</td>\n",
              "      <td>0</td>\n",
              "      <td>0</td>\n",
              "      <td>0</td>\n",
              "      <td>0</td>\n",
              "      <td>0</td>\n",
              "      <td>0</td>\n",
              "      <td>0</td>\n",
              "      <td>0</td>\n",
              "      <td>0</td>\n",
              "      <td>0</td>\n",
              "      <td>0</td>\n",
              "      <td>0</td>\n",
              "      <td>0</td>\n",
              "      <td>0</td>\n",
              "      <td>0</td>\n",
              "      <td>0</td>\n",
              "      <td>0</td>\n",
              "      <td>0</td>\n",
              "      <td>0</td>\n",
              "    </tr>\n",
              "  </tbody>\n",
              "</table>\n",
              "<p>5 rows × 1500 columns</p>\n",
              "</div>"
            ],
            "text/plain": [
              "   able  absolutely  accent  accentuates  ...  younger  zip  zipped  zipper\n",
              "0     0           1       0            0  ...        0    0       0       0\n",
              "1     0           0       0            0  ...        0    0       0       0\n",
              "2     0           0       0            0  ...        0    1       0       1\n",
              "3     0           0       0            0  ...        0    0       0       0\n",
              "4     0           0       0            0  ...        0    0       0       0\n",
              "\n",
              "[5 rows x 1500 columns]"
            ]
          },
          "metadata": {
            "tags": []
          },
          "execution_count": 174
        }
      ]
    },
    {
      "cell_type": "markdown",
      "metadata": {
        "id": "0TQQ2lu4669I",
        "colab_type": "text"
      },
      "source": [
        "# Processing Other Features for Model"
      ]
    },
    {
      "cell_type": "code",
      "metadata": {
        "id": "IXrbxQKN6luW",
        "colab_type": "code",
        "colab": {
          "base_uri": "https://localhost:8080/",
          "height": 195
        },
        "outputId": "aa85de8f-ad89-44d4-8b30-ef9405613f50"
      },
      "source": [
        "other_features = data.drop(['Review Text','Recommended IND'], axis = 1)\n",
        "other_features.head()"
      ],
      "execution_count": 175,
      "outputs": [
        {
          "output_type": "execute_result",
          "data": {
            "text/html": [
              "<div>\n",
              "<style scoped>\n",
              "    .dataframe tbody tr th:only-of-type {\n",
              "        vertical-align: middle;\n",
              "    }\n",
              "\n",
              "    .dataframe tbody tr th {\n",
              "        vertical-align: top;\n",
              "    }\n",
              "\n",
              "    .dataframe thead th {\n",
              "        text-align: right;\n",
              "    }\n",
              "</style>\n",
              "<table border=\"1\" class=\"dataframe\">\n",
              "  <thead>\n",
              "    <tr style=\"text-align: right;\">\n",
              "      <th></th>\n",
              "      <th>Age</th>\n",
              "      <th>Title</th>\n",
              "      <th>Division Name</th>\n",
              "      <th>Department Name</th>\n",
              "      <th>Class Name</th>\n",
              "    </tr>\n",
              "  </thead>\n",
              "  <tbody>\n",
              "    <tr>\n",
              "      <th>0</th>\n",
              "      <td>33</td>\n",
              "      <td>NaN</td>\n",
              "      <td>Initmates</td>\n",
              "      <td>Intimate</td>\n",
              "      <td>Intimates</td>\n",
              "    </tr>\n",
              "    <tr>\n",
              "      <th>1</th>\n",
              "      <td>34</td>\n",
              "      <td>NaN</td>\n",
              "      <td>General</td>\n",
              "      <td>Dresses</td>\n",
              "      <td>Dresses</td>\n",
              "    </tr>\n",
              "    <tr>\n",
              "      <th>2</th>\n",
              "      <td>60</td>\n",
              "      <td>Some major design flaws</td>\n",
              "      <td>General</td>\n",
              "      <td>Dresses</td>\n",
              "      <td>Dresses</td>\n",
              "    </tr>\n",
              "    <tr>\n",
              "      <th>3</th>\n",
              "      <td>50</td>\n",
              "      <td>My favorite buy!</td>\n",
              "      <td>General Petite</td>\n",
              "      <td>Bottoms</td>\n",
              "      <td>Pants</td>\n",
              "    </tr>\n",
              "    <tr>\n",
              "      <th>4</th>\n",
              "      <td>47</td>\n",
              "      <td>Flattering shirt</td>\n",
              "      <td>General</td>\n",
              "      <td>Tops</td>\n",
              "      <td>Blouses</td>\n",
              "    </tr>\n",
              "  </tbody>\n",
              "</table>\n",
              "</div>"
            ],
            "text/plain": [
              "   Age                    Title   Division Name Department Name Class Name\n",
              "0   33                      NaN       Initmates        Intimate  Intimates\n",
              "1   34                      NaN         General         Dresses    Dresses\n",
              "2   60  Some major design flaws         General         Dresses    Dresses\n",
              "3   50         My favorite buy!  General Petite         Bottoms      Pants\n",
              "4   47         Flattering shirt         General            Tops    Blouses"
            ]
          },
          "metadata": {
            "tags": []
          },
          "execution_count": 175
        }
      ]
    },
    {
      "cell_type": "code",
      "metadata": {
        "id": "Jdf4Lqy976H-",
        "colab_type": "code",
        "colab": {
          "base_uri": "https://localhost:8080/",
          "height": 122
        },
        "outputId": "2882ed69-5721-4326-a70d-e4f704ee5eb6"
      },
      "source": [
        "other_features.isna().sum()"
      ],
      "execution_count": 176,
      "outputs": [
        {
          "output_type": "execute_result",
          "data": {
            "text/plain": [
              "Age                   0\n",
              "Title              2966\n",
              "Division Name        13\n",
              "Department Name      13\n",
              "Class Name           13\n",
              "dtype: int64"
            ]
          },
          "metadata": {
            "tags": []
          },
          "execution_count": 176
        }
      ]
    },
    {
      "cell_type": "code",
      "metadata": {
        "id": "ukpR0q9K7dbT",
        "colab_type": "code",
        "colab": {
          "base_uri": "https://localhost:8080/",
          "height": 279
        },
        "outputId": "0ba74335-3a24-4605-c955-d83dbba3e243"
      },
      "source": [
        "#distribution plot of Age column\n",
        "sns.distplot(other_features.Age)\n",
        "plt.show()"
      ],
      "execution_count": 177,
      "outputs": [
        {
          "output_type": "display_data",
          "data": {
            "image/png": "[encoded data removed]",
            "text/plain": [
              "<Figure size 432x288 with 1 Axes>"
            ]
          },
          "metadata": {
            "tags": [],
            "needs_background": "light"
          }
        }
      ]
    },
    {
      "cell_type": "code",
      "metadata": {
        "id": "e-adhBOB7pjF",
        "colab_type": "code",
        "colab": {
          "base_uri": "https://localhost:8080/",
          "height": 52
        },
        "outputId": "10344322-b5d6-4de2-ec04-35c587602cc6"
      },
      "source": [
        "print('Minimum Age: ',other_features.Age.min())\n",
        "print('Maximum Age: ',other_features.Age.max())"
      ],
      "execution_count": 178,
      "outputs": [
        {
          "output_type": "stream",
          "text": [
            "Minimum Age:  18\n",
            "Maximum Age:  99\n"
          ],
          "name": "stdout"
        }
      ]
    },
    {
      "cell_type": "code",
      "metadata": {
        "id": "LfGO3r6qKr_N",
        "colab_type": "code",
        "colab": {
          "base_uri": "https://localhost:8080/",
          "height": 140
        },
        "outputId": "019e4544-30a9-43e5-8e74-cd04cc4441aa"
      },
      "source": [
        "#creating bins for Ages \n",
        "bins = np.array([18, 30, 40, 50, 60, 99])\n",
        "group_names = ['Age Under 30','Age 30-39','Age 40-49','Age 50-59','Age 60+']\n",
        "\n",
        "\n",
        "other_features['Age Binned'] = pd.cut(other_features['Age'], bins, labels = group_names, include_lowest = True)\n",
        "other_features['Age Binned'].head()"
      ],
      "execution_count": 179,
      "outputs": [
        {
          "output_type": "execute_result",
          "data": {
            "text/plain": [
              "0    Age 30-39\n",
              "1    Age 30-39\n",
              "2    Age 50-59\n",
              "3    Age 40-49\n",
              "4    Age 40-49\n",
              "Name: Age Binned, dtype: category\n",
              "Categories (5, object): [Age Under 30 < Age 30-39 < Age 40-49 < Age 50-59 < Age 60+]"
            ]
          },
          "metadata": {
            "tags": []
          },
          "execution_count": 179
        }
      ]
    },
    {
      "cell_type": "code",
      "metadata": {
        "id": "_bm0EVHm-QWi",
        "colab_type": "code",
        "colab": {
          "base_uri": "https://localhost:8080/",
          "height": 686
        },
        "outputId": "758df2fe-dcb1-49bc-d10b-f872a54c3817"
      },
      "source": [
        "for column in other_features[['Division Name','Department Name','Class Name']]:\n",
        "  print(column, '\\n', other_features[column].value_counts(), '\\n')"
      ],
      "execution_count": 180,
      "outputs": [
        {
          "output_type": "stream",
          "text": [
            "Division Name \n",
            " General           13365\n",
            "General Petite     7837\n",
            "Initmates          1426\n",
            "Name: Division Name, dtype: int64 \n",
            "\n",
            "Department Name \n",
            " Tops        10048\n",
            "Dresses      6145\n",
            "Bottoms      3662\n",
            "Intimate     1653\n",
            "Jackets      1002\n",
            "Trend         118\n",
            "Name: Department Name, dtype: int64 \n",
            "\n",
            "Class Name \n",
            " Dresses           6145\n",
            "Knits             4626\n",
            "Blouses           2983\n",
            "Sweaters          1380\n",
            "Pants             1350\n",
            "Jeans             1104\n",
            "Fine gauge        1059\n",
            "Skirts             903\n",
            "Jackets            683\n",
            "Lounge             669\n",
            "Swim               332\n",
            "Outerwear          319\n",
            "Shorts             304\n",
            "Sleep              214\n",
            "Legwear            158\n",
            "Intimates          147\n",
            "Layering           132\n",
            "Trend              118\n",
            "Chemises             1\n",
            "Casual bottoms       1\n",
            "Name: Class Name, dtype: int64 \n",
            "\n"
          ],
          "name": "stdout"
        }
      ]
    },
    {
      "cell_type": "code",
      "metadata": {
        "id": "19p8O_AOBl5y",
        "colab_type": "code",
        "colab": {
          "base_uri": "https://localhost:8080/",
          "height": 263
        },
        "outputId": "0ef93bbc-b655-49d0-f015-baae21c5b841"
      },
      "source": [
        "#getting Class Name values that appear over 200 times\n",
        "top_classes = other_features['Class Name'].value_counts()\n",
        "top_classes = top_classes[top_classes > 200].index.tolist()\n",
        "top_classes"
      ],
      "execution_count": 181,
      "outputs": [
        {
          "output_type": "execute_result",
          "data": {
            "text/plain": [
              "['Dresses',\n",
              " 'Knits',\n",
              " 'Blouses',\n",
              " 'Sweaters',\n",
              " 'Pants',\n",
              " 'Jeans',\n",
              " 'Fine gauge',\n",
              " 'Skirts',\n",
              " 'Jackets',\n",
              " 'Lounge',\n",
              " 'Swim',\n",
              " 'Outerwear',\n",
              " 'Shorts',\n",
              " 'Sleep']"
            ]
          },
          "metadata": {
            "tags": []
          },
          "execution_count": 181
        }
      ]
    },
    {
      "cell_type": "code",
      "metadata": {
        "id": "Hb4IqoTfAeK1",
        "colab_type": "code",
        "colab": {
          "base_uri": "https://localhost:8080/",
          "height": 249
        },
        "outputId": "8196431c-ec1a-44ce-a3e6-846d6225ab57"
      },
      "source": [
        "#creating dummy variables for multi-valued categorical features\n",
        "dummies = pd.get_dummies(other_features, columns = ['Age Binned','Division Name','Department Name','Class Name'], drop_first = False)\n",
        "\n",
        "#dropping features I won't be using in model\n",
        "#may be worth also dropping Class_Dresses columns to reduce multicollinearity (it had the exact same values as Department Name_Dresses)\n",
        "dummies.drop(['Age','Title'], axis = 1, inplace = True)\n",
        "dummies.head()"
      ],
      "execution_count": 182,
      "outputs": [
        {
          "output_type": "execute_result",
          "data": {
            "text/html": [
              "<div>\n",
              "<style scoped>\n",
              "    .dataframe tbody tr th:only-of-type {\n",
              "        vertical-align: middle;\n",
              "    }\n",
              "\n",
              "    .dataframe tbody tr th {\n",
              "        vertical-align: top;\n",
              "    }\n",
              "\n",
              "    .dataframe thead th {\n",
              "        text-align: right;\n",
              "    }\n",
              "</style>\n",
              "<table border=\"1\" class=\"dataframe\">\n",
              "  <thead>\n",
              "    <tr style=\"text-align: right;\">\n",
              "      <th></th>\n",
              "      <th>Age Binned_Age Under 30</th>\n",
              "      <th>Age Binned_Age 30-39</th>\n",
              "      <th>Age Binned_Age 40-49</th>\n",
              "      <th>Age Binned_Age 50-59</th>\n",
              "      <th>Age Binned_Age 60+</th>\n",
              "      <th>Division Name_General</th>\n",
              "      <th>Division Name_General Petite</th>\n",
              "      <th>Division Name_Initmates</th>\n",
              "      <th>Department Name_Bottoms</th>\n",
              "      <th>Department Name_Dresses</th>\n",
              "      <th>Department Name_Intimate</th>\n",
              "      <th>Department Name_Jackets</th>\n",
              "      <th>Department Name_Tops</th>\n",
              "      <th>Department Name_Trend</th>\n",
              "      <th>Class Name_Blouses</th>\n",
              "      <th>Class Name_Casual bottoms</th>\n",
              "      <th>Class Name_Chemises</th>\n",
              "      <th>Class Name_Dresses</th>\n",
              "      <th>Class Name_Fine gauge</th>\n",
              "      <th>Class Name_Intimates</th>\n",
              "      <th>Class Name_Jackets</th>\n",
              "      <th>Class Name_Jeans</th>\n",
              "      <th>Class Name_Knits</th>\n",
              "      <th>Class Name_Layering</th>\n",
              "      <th>Class Name_Legwear</th>\n",
              "      <th>Class Name_Lounge</th>\n",
              "      <th>Class Name_Outerwear</th>\n",
              "      <th>Class Name_Pants</th>\n",
              "      <th>Class Name_Shorts</th>\n",
              "      <th>Class Name_Skirts</th>\n",
              "      <th>Class Name_Sleep</th>\n",
              "      <th>Class Name_Sweaters</th>\n",
              "      <th>Class Name_Swim</th>\n",
              "      <th>Class Name_Trend</th>\n",
              "    </tr>\n",
              "  </thead>\n",
              "  <tbody>\n",
              "    <tr>\n",
              "      <th>0</th>\n",
              "      <td>0</td>\n",
              "      <td>1</td>\n",
              "      <td>0</td>\n",
              "      <td>0</td>\n",
              "      <td>0</td>\n",
              "      <td>0</td>\n",
              "      <td>0</td>\n",
              "      <td>1</td>\n",
              "      <td>0</td>\n",
              "      <td>0</td>\n",
              "      <td>1</td>\n",
              "      <td>0</td>\n",
              "      <td>0</td>\n",
              "      <td>0</td>\n",
              "      <td>0</td>\n",
              "      <td>0</td>\n",
              "      <td>0</td>\n",
              "      <td>0</td>\n",
              "      <td>0</td>\n",
              "      <td>1</td>\n",
              "      <td>0</td>\n",
              "      <td>0</td>\n",
              "      <td>0</td>\n",
              "      <td>0</td>\n",
              "      <td>0</td>\n",
              "      <td>0</td>\n",
              "      <td>0</td>\n",
              "      <td>0</td>\n",
              "      <td>0</td>\n",
              "      <td>0</td>\n",
              "      <td>0</td>\n",
              "      <td>0</td>\n",
              "      <td>0</td>\n",
              "      <td>0</td>\n",
              "    </tr>\n",
              "    <tr>\n",
              "      <th>1</th>\n",
              "      <td>0</td>\n",
              "      <td>1</td>\n",
              "      <td>0</td>\n",
              "      <td>0</td>\n",
              "      <td>0</td>\n",
              "      <td>1</td>\n",
              "      <td>0</td>\n",
              "      <td>0</td>\n",
              "      <td>0</td>\n",
              "      <td>1</td>\n",
              "      <td>0</td>\n",
              "      <td>0</td>\n",
              "      <td>0</td>\n",
              "      <td>0</td>\n",
              "      <td>0</td>\n",
              "      <td>0</td>\n",
              "      <td>0</td>\n",
              "      <td>1</td>\n",
              "      <td>0</td>\n",
              "      <td>0</td>\n",
              "      <td>0</td>\n",
              "      <td>0</td>\n",
              "      <td>0</td>\n",
              "      <td>0</td>\n",
              "      <td>0</td>\n",
              "      <td>0</td>\n",
              "      <td>0</td>\n",
              "      <td>0</td>\n",
              "      <td>0</td>\n",
              "      <td>0</td>\n",
              "      <td>0</td>\n",
              "      <td>0</td>\n",
              "      <td>0</td>\n",
              "      <td>0</td>\n",
              "    </tr>\n",
              "    <tr>\n",
              "      <th>2</th>\n",
              "      <td>0</td>\n",
              "      <td>0</td>\n",
              "      <td>0</td>\n",
              "      <td>1</td>\n",
              "      <td>0</td>\n",
              "      <td>1</td>\n",
              "      <td>0</td>\n",
              "      <td>0</td>\n",
              "      <td>0</td>\n",
              "      <td>1</td>\n",
              "      <td>0</td>\n",
              "      <td>0</td>\n",
              "      <td>0</td>\n",
              "      <td>0</td>\n",
              "      <td>0</td>\n",
              "      <td>0</td>\n",
              "      <td>0</td>\n",
              "      <td>1</td>\n",
              "      <td>0</td>\n",
              "      <td>0</td>\n",
              "      <td>0</td>\n",
              "      <td>0</td>\n",
              "      <td>0</td>\n",
              "      <td>0</td>\n",
              "      <td>0</td>\n",
              "      <td>0</td>\n",
              "      <td>0</td>\n",
              "      <td>0</td>\n",
              "      <td>0</td>\n",
              "      <td>0</td>\n",
              "      <td>0</td>\n",
              "      <td>0</td>\n",
              "      <td>0</td>\n",
              "      <td>0</td>\n",
              "    </tr>\n",
              "    <tr>\n",
              "      <th>3</th>\n",
              "      <td>0</td>\n",
              "      <td>0</td>\n",
              "      <td>1</td>\n",
              "      <td>0</td>\n",
              "      <td>0</td>\n",
              "      <td>0</td>\n",
              "      <td>1</td>\n",
              "      <td>0</td>\n",
              "      <td>1</td>\n",
              "      <td>0</td>\n",
              "      <td>0</td>\n",
              "      <td>0</td>\n",
              "      <td>0</td>\n",
              "      <td>0</td>\n",
              "      <td>0</td>\n",
              "      <td>0</td>\n",
              "      <td>0</td>\n",
              "      <td>0</td>\n",
              "      <td>0</td>\n",
              "      <td>0</td>\n",
              "      <td>0</td>\n",
              "      <td>0</td>\n",
              "      <td>0</td>\n",
              "      <td>0</td>\n",
              "      <td>0</td>\n",
              "      <td>0</td>\n",
              "      <td>0</td>\n",
              "      <td>1</td>\n",
              "      <td>0</td>\n",
              "      <td>0</td>\n",
              "      <td>0</td>\n",
              "      <td>0</td>\n",
              "      <td>0</td>\n",
              "      <td>0</td>\n",
              "    </tr>\n",
              "    <tr>\n",
              "      <th>4</th>\n",
              "      <td>0</td>\n",
              "      <td>0</td>\n",
              "      <td>1</td>\n",
              "      <td>0</td>\n",
              "      <td>0</td>\n",
              "      <td>1</td>\n",
              "      <td>0</td>\n",
              "      <td>0</td>\n",
              "      <td>0</td>\n",
              "      <td>0</td>\n",
              "      <td>0</td>\n",
              "      <td>0</td>\n",
              "      <td>1</td>\n",
              "      <td>0</td>\n",
              "      <td>1</td>\n",
              "      <td>0</td>\n",
              "      <td>0</td>\n",
              "      <td>0</td>\n",
              "      <td>0</td>\n",
              "      <td>0</td>\n",
              "      <td>0</td>\n",
              "      <td>0</td>\n",
              "      <td>0</td>\n",
              "      <td>0</td>\n",
              "      <td>0</td>\n",
              "      <td>0</td>\n",
              "      <td>0</td>\n",
              "      <td>0</td>\n",
              "      <td>0</td>\n",
              "      <td>0</td>\n",
              "      <td>0</td>\n",
              "      <td>0</td>\n",
              "      <td>0</td>\n",
              "      <td>0</td>\n",
              "    </tr>\n",
              "  </tbody>\n",
              "</table>\n",
              "</div>"
            ],
            "text/plain": [
              "   Age Binned_Age Under 30  ...  Class Name_Trend\n",
              "0                        0  ...                 0\n",
              "1                        0  ...                 0\n",
              "2                        0  ...                 0\n",
              "3                        0  ...                 0\n",
              "4                        0  ...                 0\n",
              "\n",
              "[5 rows x 34 columns]"
            ]
          },
          "metadata": {
            "tags": []
          },
          "execution_count": 182
        }
      ]
    },
    {
      "cell_type": "markdown",
      "metadata": {
        "id": "n1mKYnF9MXb5",
        "colab_type": "text"
      },
      "source": [
        "# Splitting Data into Training, Validation, and Test Sets\n",
        "\n"
      ]
    },
    {
      "cell_type": "code",
      "metadata": {
        "id": "ApleYDxnGx_5",
        "colab_type": "code",
        "colab": {
          "base_uri": "https://localhost:8080/",
          "height": 34
        },
        "outputId": "e3a452f0-bf42-41e1-8e46-12281a34e722"
      },
      "source": [
        "#pd.concat was originally adding rows so I had to use reset_index\n",
        "X = pd.concat([dummies.reset_index(drop = True),reviews.reset_index(drop = True)], axis = 1, sort = False)\n",
        "X.shape"
      ],
      "execution_count": 183,
      "outputs": [
        {
          "output_type": "execute_result",
          "data": {
            "text/plain": [
              "(22641, 1534)"
            ]
          },
          "metadata": {
            "tags": []
          },
          "execution_count": 183
        }
      ]
    },
    {
      "cell_type": "code",
      "metadata": {
        "id": "FQT5Ep3tMiWQ",
        "colab_type": "code",
        "colab": {
          "base_uri": "https://localhost:8080/",
          "height": 278
        },
        "outputId": "c813ec80-a7ec-4e5e-8865-8bfbb1cb4011"
      },
      "source": [
        "X.head()"
      ],
      "execution_count": 184,
      "outputs": [
        {
          "output_type": "execute_result",
          "data": {
            "text/html": [
              "<div>\n",
              "<style scoped>\n",
              "    .dataframe tbody tr th:only-of-type {\n",
              "        vertical-align: middle;\n",
              "    }\n",
              "\n",
              "    .dataframe tbody tr th {\n",
              "        vertical-align: top;\n",
              "    }\n",
              "\n",
              "    .dataframe thead th {\n",
              "        text-align: right;\n",
              "    }\n",
              "</style>\n",
              "<table border=\"1\" class=\"dataframe\">\n",
              "  <thead>\n",
              "    <tr style=\"text-align: right;\">\n",
              "      <th></th>\n",
              "      <th>Age Binned_Age Under 30</th>\n",
              "      <th>Age Binned_Age 30-39</th>\n",
              "      <th>Age Binned_Age 40-49</th>\n",
              "      <th>Age Binned_Age 50-59</th>\n",
              "      <th>Age Binned_Age 60+</th>\n",
              "      <th>Division Name_General</th>\n",
              "      <th>Division Name_General Petite</th>\n",
              "      <th>Division Name_Initmates</th>\n",
              "      <th>Department Name_Bottoms</th>\n",
              "      <th>Department Name_Dresses</th>\n",
              "      <th>Department Name_Intimate</th>\n",
              "      <th>Department Name_Jackets</th>\n",
              "      <th>Department Name_Tops</th>\n",
              "      <th>Department Name_Trend</th>\n",
              "      <th>Class Name_Blouses</th>\n",
              "      <th>Class Name_Casual bottoms</th>\n",
              "      <th>Class Name_Chemises</th>\n",
              "      <th>Class Name_Dresses</th>\n",
              "      <th>Class Name_Fine gauge</th>\n",
              "      <th>Class Name_Intimates</th>\n",
              "      <th>Class Name_Jackets</th>\n",
              "      <th>Class Name_Jeans</th>\n",
              "      <th>Class Name_Knits</th>\n",
              "      <th>Class Name_Layering</th>\n",
              "      <th>Class Name_Legwear</th>\n",
              "      <th>Class Name_Lounge</th>\n",
              "      <th>Class Name_Outerwear</th>\n",
              "      <th>Class Name_Pants</th>\n",
              "      <th>Class Name_Shorts</th>\n",
              "      <th>Class Name_Skirts</th>\n",
              "      <th>Class Name_Sleep</th>\n",
              "      <th>Class Name_Sweaters</th>\n",
              "      <th>Class Name_Swim</th>\n",
              "      <th>Class Name_Trend</th>\n",
              "      <th>able</th>\n",
              "      <th>absolutely</th>\n",
              "      <th>accent</th>\n",
              "      <th>accentuates</th>\n",
              "      <th>accessory</th>\n",
              "      <th>accommodate</th>\n",
              "      <th>...</th>\n",
              "      <th>wonder</th>\n",
              "      <th>wonderful</th>\n",
              "      <th>wonderfully</th>\n",
              "      <th>wool</th>\n",
              "      <th>word</th>\n",
              "      <th>wore</th>\n",
              "      <th>work</th>\n",
              "      <th>worked</th>\n",
              "      <th>working</th>\n",
              "      <th>worn</th>\n",
              "      <th>worried</th>\n",
              "      <th>worry</th>\n",
              "      <th>worse</th>\n",
              "      <th>worth</th>\n",
              "      <th>would</th>\n",
              "      <th>woven</th>\n",
              "      <th>wow</th>\n",
              "      <th>wrap</th>\n",
              "      <th>wrinkle</th>\n",
              "      <th>wrinkled</th>\n",
              "      <th>wrist</th>\n",
              "      <th>write</th>\n",
              "      <th>wrong</th>\n",
              "      <th>xl</th>\n",
              "      <th>xsmall</th>\n",
              "      <th>xsp</th>\n",
              "      <th>xx</th>\n",
              "      <th>xxsp</th>\n",
              "      <th>yarn</th>\n",
              "      <th>year</th>\n",
              "      <th>yellow</th>\n",
              "      <th>yes</th>\n",
              "      <th>yesterday</th>\n",
              "      <th>yet</th>\n",
              "      <th>yoga</th>\n",
              "      <th>young</th>\n",
              "      <th>younger</th>\n",
              "      <th>zip</th>\n",
              "      <th>zipped</th>\n",
              "      <th>zipper</th>\n",
              "    </tr>\n",
              "  </thead>\n",
              "  <tbody>\n",
              "    <tr>\n",
              "      <th>0</th>\n",
              "      <td>0</td>\n",
              "      <td>1</td>\n",
              "      <td>0</td>\n",
              "      <td>0</td>\n",
              "      <td>0</td>\n",
              "      <td>0</td>\n",
              "      <td>0</td>\n",
              "      <td>1</td>\n",
              "      <td>0</td>\n",
              "      <td>0</td>\n",
              "      <td>1</td>\n",
              "      <td>0</td>\n",
              "      <td>0</td>\n",
              "      <td>0</td>\n",
              "      <td>0</td>\n",
              "      <td>0</td>\n",
              "      <td>0</td>\n",
              "      <td>0</td>\n",
              "      <td>0</td>\n",
              "      <td>1</td>\n",
              "      <td>0</td>\n",
              "      <td>0</td>\n",
              "      <td>0</td>\n",
              "      <td>0</td>\n",
              "      <td>0</td>\n",
              "      <td>0</td>\n",
              "      <td>0</td>\n",
              "      <td>0</td>\n",
              "      <td>0</td>\n",
              "      <td>0</td>\n",
              "      <td>0</td>\n",
              "      <td>0</td>\n",
              "      <td>0</td>\n",
              "      <td>0</td>\n",
              "      <td>0</td>\n",
              "      <td>1</td>\n",
              "      <td>0</td>\n",
              "      <td>0</td>\n",
              "      <td>0</td>\n",
              "      <td>0</td>\n",
              "      <td>...</td>\n",
              "      <td>0</td>\n",
              "      <td>1</td>\n",
              "      <td>0</td>\n",
              "      <td>0</td>\n",
              "      <td>0</td>\n",
              "      <td>0</td>\n",
              "      <td>0</td>\n",
              "      <td>0</td>\n",
              "      <td>0</td>\n",
              "      <td>0</td>\n",
              "      <td>0</td>\n",
              "      <td>0</td>\n",
              "      <td>0</td>\n",
              "      <td>0</td>\n",
              "      <td>0</td>\n",
              "      <td>0</td>\n",
              "      <td>0</td>\n",
              "      <td>0</td>\n",
              "      <td>0</td>\n",
              "      <td>0</td>\n",
              "      <td>0</td>\n",
              "      <td>0</td>\n",
              "      <td>0</td>\n",
              "      <td>0</td>\n",
              "      <td>0</td>\n",
              "      <td>0</td>\n",
              "      <td>0</td>\n",
              "      <td>0</td>\n",
              "      <td>0</td>\n",
              "      <td>0</td>\n",
              "      <td>0</td>\n",
              "      <td>0</td>\n",
              "      <td>0</td>\n",
              "      <td>0</td>\n",
              "      <td>0</td>\n",
              "      <td>0</td>\n",
              "      <td>0</td>\n",
              "      <td>0</td>\n",
              "      <td>0</td>\n",
              "      <td>0</td>\n",
              "    </tr>\n",
              "    <tr>\n",
              "      <th>1</th>\n",
              "      <td>0</td>\n",
              "      <td>1</td>\n",
              "      <td>0</td>\n",
              "      <td>0</td>\n",
              "      <td>0</td>\n",
              "      <td>1</td>\n",
              "      <td>0</td>\n",
              "      <td>0</td>\n",
              "      <td>0</td>\n",
              "      <td>1</td>\n",
              "      <td>0</td>\n",
              "      <td>0</td>\n",
              "      <td>0</td>\n",
              "      <td>0</td>\n",
              "      <td>0</td>\n",
              "      <td>0</td>\n",
              "      <td>0</td>\n",
              "      <td>1</td>\n",
              "      <td>0</td>\n",
              "      <td>0</td>\n",
              "      <td>0</td>\n",
              "      <td>0</td>\n",
              "      <td>0</td>\n",
              "      <td>0</td>\n",
              "      <td>0</td>\n",
              "      <td>0</td>\n",
              "      <td>0</td>\n",
              "      <td>0</td>\n",
              "      <td>0</td>\n",
              "      <td>0</td>\n",
              "      <td>0</td>\n",
              "      <td>0</td>\n",
              "      <td>0</td>\n",
              "      <td>0</td>\n",
              "      <td>0</td>\n",
              "      <td>0</td>\n",
              "      <td>0</td>\n",
              "      <td>0</td>\n",
              "      <td>0</td>\n",
              "      <td>0</td>\n",
              "      <td>...</td>\n",
              "      <td>0</td>\n",
              "      <td>0</td>\n",
              "      <td>0</td>\n",
              "      <td>0</td>\n",
              "      <td>0</td>\n",
              "      <td>0</td>\n",
              "      <td>0</td>\n",
              "      <td>0</td>\n",
              "      <td>0</td>\n",
              "      <td>0</td>\n",
              "      <td>0</td>\n",
              "      <td>0</td>\n",
              "      <td>0</td>\n",
              "      <td>0</td>\n",
              "      <td>2</td>\n",
              "      <td>0</td>\n",
              "      <td>0</td>\n",
              "      <td>0</td>\n",
              "      <td>0</td>\n",
              "      <td>0</td>\n",
              "      <td>0</td>\n",
              "      <td>0</td>\n",
              "      <td>0</td>\n",
              "      <td>0</td>\n",
              "      <td>0</td>\n",
              "      <td>0</td>\n",
              "      <td>0</td>\n",
              "      <td>0</td>\n",
              "      <td>0</td>\n",
              "      <td>0</td>\n",
              "      <td>0</td>\n",
              "      <td>0</td>\n",
              "      <td>0</td>\n",
              "      <td>0</td>\n",
              "      <td>0</td>\n",
              "      <td>0</td>\n",
              "      <td>0</td>\n",
              "      <td>0</td>\n",
              "      <td>0</td>\n",
              "      <td>0</td>\n",
              "    </tr>\n",
              "    <tr>\n",
              "      <th>2</th>\n",
              "      <td>0</td>\n",
              "      <td>0</td>\n",
              "      <td>0</td>\n",
              "      <td>1</td>\n",
              "      <td>0</td>\n",
              "      <td>1</td>\n",
              "      <td>0</td>\n",
              "      <td>0</td>\n",
              "      <td>0</td>\n",
              "      <td>1</td>\n",
              "      <td>0</td>\n",
              "      <td>0</td>\n",
              "      <td>0</td>\n",
              "      <td>0</td>\n",
              "      <td>0</td>\n",
              "      <td>0</td>\n",
              "      <td>0</td>\n",
              "      <td>1</td>\n",
              "      <td>0</td>\n",
              "      <td>0</td>\n",
              "      <td>0</td>\n",
              "      <td>0</td>\n",
              "      <td>0</td>\n",
              "      <td>0</td>\n",
              "      <td>0</td>\n",
              "      <td>0</td>\n",
              "      <td>0</td>\n",
              "      <td>0</td>\n",
              "      <td>0</td>\n",
              "      <td>0</td>\n",
              "      <td>0</td>\n",
              "      <td>0</td>\n",
              "      <td>0</td>\n",
              "      <td>0</td>\n",
              "      <td>0</td>\n",
              "      <td>0</td>\n",
              "      <td>0</td>\n",
              "      <td>0</td>\n",
              "      <td>0</td>\n",
              "      <td>0</td>\n",
              "      <td>...</td>\n",
              "      <td>0</td>\n",
              "      <td>0</td>\n",
              "      <td>0</td>\n",
              "      <td>0</td>\n",
              "      <td>0</td>\n",
              "      <td>0</td>\n",
              "      <td>1</td>\n",
              "      <td>0</td>\n",
              "      <td>0</td>\n",
              "      <td>0</td>\n",
              "      <td>0</td>\n",
              "      <td>0</td>\n",
              "      <td>0</td>\n",
              "      <td>0</td>\n",
              "      <td>0</td>\n",
              "      <td>0</td>\n",
              "      <td>0</td>\n",
              "      <td>0</td>\n",
              "      <td>0</td>\n",
              "      <td>0</td>\n",
              "      <td>0</td>\n",
              "      <td>0</td>\n",
              "      <td>0</td>\n",
              "      <td>0</td>\n",
              "      <td>0</td>\n",
              "      <td>0</td>\n",
              "      <td>0</td>\n",
              "      <td>0</td>\n",
              "      <td>0</td>\n",
              "      <td>0</td>\n",
              "      <td>0</td>\n",
              "      <td>0</td>\n",
              "      <td>0</td>\n",
              "      <td>0</td>\n",
              "      <td>0</td>\n",
              "      <td>0</td>\n",
              "      <td>0</td>\n",
              "      <td>1</td>\n",
              "      <td>0</td>\n",
              "      <td>1</td>\n",
              "    </tr>\n",
              "    <tr>\n",
              "      <th>3</th>\n",
              "      <td>0</td>\n",
              "      <td>0</td>\n",
              "      <td>1</td>\n",
              "      <td>0</td>\n",
              "      <td>0</td>\n",
              "      <td>0</td>\n",
              "      <td>1</td>\n",
              "      <td>0</td>\n",
              "      <td>1</td>\n",
              "      <td>0</td>\n",
              "      <td>0</td>\n",
              "      <td>0</td>\n",
              "      <td>0</td>\n",
              "      <td>0</td>\n",
              "      <td>0</td>\n",
              "      <td>0</td>\n",
              "      <td>0</td>\n",
              "      <td>0</td>\n",
              "      <td>0</td>\n",
              "      <td>0</td>\n",
              "      <td>0</td>\n",
              "      <td>0</td>\n",
              "      <td>0</td>\n",
              "      <td>0</td>\n",
              "      <td>0</td>\n",
              "      <td>0</td>\n",
              "      <td>0</td>\n",
              "      <td>1</td>\n",
              "      <td>0</td>\n",
              "      <td>0</td>\n",
              "      <td>0</td>\n",
              "      <td>0</td>\n",
              "      <td>0</td>\n",
              "      <td>0</td>\n",
              "      <td>0</td>\n",
              "      <td>0</td>\n",
              "      <td>0</td>\n",
              "      <td>0</td>\n",
              "      <td>0</td>\n",
              "      <td>0</td>\n",
              "      <td>...</td>\n",
              "      <td>0</td>\n",
              "      <td>0</td>\n",
              "      <td>0</td>\n",
              "      <td>0</td>\n",
              "      <td>0</td>\n",
              "      <td>0</td>\n",
              "      <td>0</td>\n",
              "      <td>0</td>\n",
              "      <td>0</td>\n",
              "      <td>0</td>\n",
              "      <td>0</td>\n",
              "      <td>0</td>\n",
              "      <td>0</td>\n",
              "      <td>0</td>\n",
              "      <td>0</td>\n",
              "      <td>0</td>\n",
              "      <td>0</td>\n",
              "      <td>0</td>\n",
              "      <td>0</td>\n",
              "      <td>0</td>\n",
              "      <td>0</td>\n",
              "      <td>0</td>\n",
              "      <td>0</td>\n",
              "      <td>0</td>\n",
              "      <td>0</td>\n",
              "      <td>0</td>\n",
              "      <td>0</td>\n",
              "      <td>0</td>\n",
              "      <td>0</td>\n",
              "      <td>0</td>\n",
              "      <td>0</td>\n",
              "      <td>0</td>\n",
              "      <td>0</td>\n",
              "      <td>0</td>\n",
              "      <td>0</td>\n",
              "      <td>0</td>\n",
              "      <td>0</td>\n",
              "      <td>0</td>\n",
              "      <td>0</td>\n",
              "      <td>0</td>\n",
              "    </tr>\n",
              "    <tr>\n",
              "      <th>4</th>\n",
              "      <td>0</td>\n",
              "      <td>0</td>\n",
              "      <td>1</td>\n",
              "      <td>0</td>\n",
              "      <td>0</td>\n",
              "      <td>1</td>\n",
              "      <td>0</td>\n",
              "      <td>0</td>\n",
              "      <td>0</td>\n",
              "      <td>0</td>\n",
              "      <td>0</td>\n",
              "      <td>0</td>\n",
              "      <td>1</td>\n",
              "      <td>0</td>\n",
              "      <td>1</td>\n",
              "      <td>0</td>\n",
              "      <td>0</td>\n",
              "      <td>0</td>\n",
              "      <td>0</td>\n",
              "      <td>0</td>\n",
              "      <td>0</td>\n",
              "      <td>0</td>\n",
              "      <td>0</td>\n",
              "      <td>0</td>\n",
              "      <td>0</td>\n",
              "      <td>0</td>\n",
              "      <td>0</td>\n",
              "      <td>0</td>\n",
              "      <td>0</td>\n",
              "      <td>0</td>\n",
              "      <td>0</td>\n",
              "      <td>0</td>\n",
              "      <td>0</td>\n",
              "      <td>0</td>\n",
              "      <td>0</td>\n",
              "      <td>0</td>\n",
              "      <td>0</td>\n",
              "      <td>0</td>\n",
              "      <td>0</td>\n",
              "      <td>0</td>\n",
              "      <td>...</td>\n",
              "      <td>0</td>\n",
              "      <td>0</td>\n",
              "      <td>0</td>\n",
              "      <td>0</td>\n",
              "      <td>0</td>\n",
              "      <td>0</td>\n",
              "      <td>0</td>\n",
              "      <td>0</td>\n",
              "      <td>0</td>\n",
              "      <td>0</td>\n",
              "      <td>0</td>\n",
              "      <td>0</td>\n",
              "      <td>0</td>\n",
              "      <td>0</td>\n",
              "      <td>0</td>\n",
              "      <td>0</td>\n",
              "      <td>0</td>\n",
              "      <td>0</td>\n",
              "      <td>0</td>\n",
              "      <td>0</td>\n",
              "      <td>0</td>\n",
              "      <td>0</td>\n",
              "      <td>0</td>\n",
              "      <td>0</td>\n",
              "      <td>0</td>\n",
              "      <td>0</td>\n",
              "      <td>0</td>\n",
              "      <td>0</td>\n",
              "      <td>0</td>\n",
              "      <td>0</td>\n",
              "      <td>0</td>\n",
              "      <td>0</td>\n",
              "      <td>0</td>\n",
              "      <td>0</td>\n",
              "      <td>0</td>\n",
              "      <td>0</td>\n",
              "      <td>0</td>\n",
              "      <td>0</td>\n",
              "      <td>0</td>\n",
              "      <td>0</td>\n",
              "    </tr>\n",
              "  </tbody>\n",
              "</table>\n",
              "<p>5 rows × 1534 columns</p>\n",
              "</div>"
            ],
            "text/plain": [
              "   Age Binned_Age Under 30  Age Binned_Age 30-39  ...  zipped  zipper\n",
              "0                        0                     1  ...       0       0\n",
              "1                        0                     1  ...       0       0\n",
              "2                        0                     0  ...       0       1\n",
              "3                        0                     0  ...       0       0\n",
              "4                        0                     0  ...       0       0\n",
              "\n",
              "[5 rows x 1534 columns]"
            ]
          },
          "metadata": {
            "tags": []
          },
          "execution_count": 184
        }
      ]
    },
    {
      "cell_type": "code",
      "metadata": {
        "id": "1WZgoYQC0wcX",
        "colab_type": "code",
        "colab": {
          "base_uri": "https://localhost:8080/",
          "height": 34
        },
        "outputId": "14730e5e-a76a-487b-c99f-a7c5654a66c9"
      },
      "source": [
        "#checking for null values\n",
        "null = X.isna().sum()\n",
        "null[null > 0]"
      ],
      "execution_count": 185,
      "outputs": [
        {
          "output_type": "execute_result",
          "data": {
            "text/plain": [
              "Series([], dtype: int64)"
            ]
          },
          "metadata": {
            "tags": []
          },
          "execution_count": 185
        }
      ]
    },
    {
      "cell_type": "code",
      "metadata": {
        "id": "vStGHNWrNE6R",
        "colab_type": "code",
        "colab": {
          "base_uri": "https://localhost:8080/",
          "height": 34
        },
        "outputId": "ce5bb29c-ec1c-4c82-f054-fda0f348b099"
      },
      "source": [
        "y = data['Recommended IND']\n",
        "y.shape"
      ],
      "execution_count": 186,
      "outputs": [
        {
          "output_type": "execute_result",
          "data": {
            "text/plain": [
              "(22641,)"
            ]
          },
          "metadata": {
            "tags": []
          },
          "execution_count": 186
        }
      ]
    },
    {
      "cell_type": "code",
      "metadata": {
        "id": "LPsZdEqdNLNE",
        "colab_type": "code",
        "colab": {}
      },
      "source": [
        "#splitting into training, validation and test sets\n",
        "X_train, X_test, y_train, y_test = train_test_split(X, y, test_size = 0.2, random_state = 0)\n",
        "X_train, X_valid, y_train, y_valid = train_test_split(X_train, y_train, test_size = 0.2, random_state = 0)"
      ],
      "execution_count": 187,
      "outputs": []
    },
    {
      "cell_type": "code",
      "metadata": {
        "id": "C6itxBRSy40U",
        "colab_type": "code",
        "colab": {
          "base_uri": "https://localhost:8080/",
          "height": 52
        },
        "outputId": "ed75e8dd-bdb5-49fa-fc9f-0b42e82bcd86"
      },
      "source": [
        "print(X_train.shape)\n",
        "print(len(y_train))"
      ],
      "execution_count": 188,
      "outputs": [
        {
          "output_type": "stream",
          "text": [
            "(14489, 1534)\n",
            "14489\n"
          ],
          "name": "stdout"
        }
      ]
    },
    {
      "cell_type": "markdown",
      "metadata": {
        "id": "H5ePKYNTvouj",
        "colab_type": "text"
      },
      "source": [
        "#Resampling Data to Address Imbalances"
      ]
    },
    {
      "cell_type": "code",
      "metadata": {
        "id": "MGBuv8j7vsZk",
        "colab_type": "code",
        "colab": {
          "base_uri": "https://localhost:8080/",
          "height": 70
        },
        "outputId": "8985946a-adb7-42bd-8807-ff884c6e373d"
      },
      "source": [
        "from sklearn.utils import resample\n",
        "\n",
        "#concatenating X_train and y_train back together\n",
        "train = pd.concat([X_train.reset_index(drop = True), y_train.reset_index(drop = True)], axis =1)    #this is creating null values for some reason - fixed by resetting index\n",
        "#separate minority and majority classes\n",
        "not_recommended = train[train['Recommended IND'] == 0]\n",
        "recommended = train[train['Recommended IND'] == 1]\n",
        "\n",
        "#upsampling minority class\n",
        "not_recommended_upsampled = resample(not_recommended,\n",
        "                                     replace = True, #sample with replacement\n",
        "                                     n_samples = len(recommended), #match sample size in majority class\n",
        "                                     random_state = 0)\n",
        "\n",
        "#concatenating majority class and upsampled minority class\n",
        "train_upsampled = pd.concat([recommended, not_recommended_upsampled], axis = 0)\n",
        "\n",
        "train_upsampled['Recommended IND'].value_counts()"
      ],
      "execution_count": 189,
      "outputs": [
        {
          "output_type": "execute_result",
          "data": {
            "text/plain": [
              "1    11880\n",
              "0    11880\n",
              "Name: Recommended IND, dtype: int64"
            ]
          },
          "metadata": {
            "tags": []
          },
          "execution_count": 189
        }
      ]
    },
    {
      "cell_type": "code",
      "metadata": {
        "id": "wT1Og3GG7NHY",
        "colab_type": "code",
        "colab": {
          "base_uri": "https://localhost:8080/",
          "height": 228
        },
        "outputId": "23cbba90-f43c-4bb6-d20a-6179085a8222"
      },
      "source": [
        "train_upsampled.isna().sum().sort_values(ascending = False)"
      ],
      "execution_count": 190,
      "outputs": [
        {
          "output_type": "execute_result",
          "data": {
            "text/plain": [
              "Recommended IND            0\n",
              "flip                       0\n",
              "flannel                    0\n",
              "flare                      0\n",
              "flared                     0\n",
              "                          ..\n",
              "rack                       0\n",
              "ran                        0\n",
              "range                      0\n",
              "rare                       0\n",
              "Age Binned_Age Under 30    0\n",
              "Length: 1535, dtype: int64"
            ]
          },
          "metadata": {
            "tags": []
          },
          "execution_count": 190
        }
      ]
    },
    {
      "cell_type": "code",
      "metadata": {
        "id": "gECy6023x8T0",
        "colab_type": "code",
        "colab": {}
      },
      "source": [
        "#splitting training set back into X and y to train model\n",
        "y_train = train_upsampled['Recommended IND']\n",
        "X_train = train_upsampled.drop('Recommended IND', axis = 1)"
      ],
      "execution_count": 191,
      "outputs": []
    },
    {
      "cell_type": "markdown",
      "metadata": {
        "id": "l0Sfa_bjSmvy",
        "colab_type": "text"
      },
      "source": [
        "## Random Forest"
      ]
    },
    {
      "cell_type": "code",
      "metadata": {
        "id": "XnLIyY1vSKoc",
        "colab_type": "code",
        "colab": {}
      },
      "source": [
        "#Random forest model\n",
        "rf = RandomForestClassifier(n_estimators = 100)\n",
        "rf.fit(X_train, y_train)\n",
        "rf_pred = rf.predict(X_valid)"
      ],
      "execution_count": 192,
      "outputs": []
    },
    {
      "cell_type": "code",
      "metadata": {
        "id": "gMnK3vfISdJ6",
        "colab_type": "code",
        "colab": {
          "base_uri": "https://localhost:8080/",
          "height": 228
        },
        "outputId": "8004073a-c4e9-458b-bf08-fa8c3b9c7fa1"
      },
      "source": [
        "#evaluating model\n",
        "fpr, tpr, thresholds = metrics.roc_curve(y_valid, rf_pred)\n",
        "print('AUC: ', metrics.auc(fpr, tpr))\n",
        "print(classification_report(y_valid, rf_pred))\n",
        "print(confusion_matrix(y_valid, rf_pred))"
      ],
      "execution_count": 193,
      "outputs": [
        {
          "output_type": "stream",
          "text": [
            "AUC:  0.7296285785331257\n",
            "              precision    recall  f1-score   support\n",
            "\n",
            "           0       0.71      0.50      0.59       615\n",
            "           1       0.90      0.96      0.93      3008\n",
            "\n",
            "    accuracy                           0.88      3623\n",
            "   macro avg       0.81      0.73      0.76      3623\n",
            "weighted avg       0.87      0.88      0.87      3623\n",
            "\n",
            "[[ 308  307]\n",
            " [ 125 2883]]\n"
          ],
          "name": "stdout"
        }
      ]
    },
    {
      "cell_type": "code",
      "metadata": {
        "id": "lDn_8_ZyVjBL",
        "colab_type": "code",
        "colab": {
          "base_uri": "https://localhost:8080/",
          "height": 125
        },
        "outputId": "0ac5e5de-5189-41b5-d59b-3356d7ba1a30"
      },
      "source": [
        "# getting feature importances for random forest model\n",
        "name_list = list()\n",
        "score_list = list()\n",
        "\n",
        "for name, score in zip(X.columns, rf.feature_importances_):\n",
        "  a = name\n",
        "  b = score\n",
        "  name_list.append(a)\n",
        "  score_list.append(b)\n",
        "\n",
        "print('Name: \\n', name_list[:10], '\\n')\n",
        "print('Score: \\n', score_list[:10])"
      ],
      "execution_count": 194,
      "outputs": [
        {
          "output_type": "stream",
          "text": [
            "Name: \n",
            " ['Age Binned_Age Under 30', 'Age Binned_Age 30-39', 'Age Binned_Age 40-49', 'Age Binned_Age 50-59', 'Age Binned_Age 60+', 'Division Name_General', 'Division Name_General Petite', 'Division Name_Initmates', 'Department Name_Bottoms', 'Department Name_Dresses'] \n",
            "\n",
            "Score: \n",
            " [0.0021581598462194766, 0.002784668359901204, 0.002877694901405333, 0.002183498650968437, 0.001845237933097168, 0.0029775274060157893, 0.0029088730338663036, 0.001058400617638632, 0.0020144846713777745, 0.0022687701206479285]\n"
          ],
          "name": "stdout"
        }
      ]
    },
    {
      "cell_type": "code",
      "metadata": {
        "id": "JZkKXYbdXMLi",
        "colab_type": "code",
        "colab": {}
      },
      "source": [
        "#creating dataframe of random forest feature importances\n",
        "rf_feature_dict = {'Name': name_list, 'Score': score_list}\n",
        "rf_features = pd.DataFrame(rf_feature_dict)\n",
        "\n",
        "rf_features.sort_values(by = 'Score', ascending = False, inplace = True)"
      ],
      "execution_count": 195,
      "outputs": []
    },
    {
      "cell_type": "code",
      "metadata": {
        "id": "P6YEL0I41tTc",
        "colab_type": "code",
        "colab": {
          "base_uri": "https://localhost:8080/",
          "height": 714
        },
        "outputId": "0d8b9506-8a1d-4a7b-92e2-508e911d1e0e"
      },
      "source": [
        "#plotting feature importances\n",
        "f, ax = plt.subplots(figsize = (18,12))\n",
        "sns.barplot(x = 'Score', y = 'Name', data = rf_features.head(50), orient = \"h\")\n",
        "plt.show()"
      ],
      "execution_count": 196,
      "outputs": [
        {
          "output_type": "display_data",
          "data": {
            "image/png": "[encoded data removed]",
            "text/plain": [
              "<Figure size 1296x864 with 1 Axes>"
            ]
          },
          "metadata": {
            "tags": [],
            "needs_background": "light"
          }
        }
      ]
    },
    {
      "cell_type": "markdown",
      "metadata": {
        "id": "BN3Q0UcJsyYN",
        "colab_type": "text"
      },
      "source": [
        "#Random Forest Model Using 500 Best Predictors"
      ]
    },
    {
      "cell_type": "code",
      "metadata": {
        "id": "mgsj85NeURuV",
        "colab_type": "code",
        "colab": {}
      },
      "source": [
        "# using only 500 best predictors from original RF model\n",
        "best_predictors = rf_features.Name[:500]\n",
        "X_train2 = X_train[best_predictors]\n",
        "X_valid2 = X_valid[best_predictors]\n",
        "X_test2 = X_test[best_predictors]"
      ],
      "execution_count": 197,
      "outputs": []
    },
    {
      "cell_type": "code",
      "metadata": {
        "id": "VoPyDkbes4UD",
        "colab_type": "code",
        "colab": {}
      },
      "source": [
        "#RF model\n",
        "rf_best = RandomForestClassifier(n_estimators = 100)\n",
        "rf_best.fit(X_train2, y_train)\n",
        "rf_best_pred = rf_best.predict(X_valid2)"
      ],
      "execution_count": 198,
      "outputs": []
    },
    {
      "cell_type": "code",
      "metadata": {
        "id": "4Jxd1CX2tatV",
        "colab_type": "code",
        "colab": {
          "base_uri": "https://localhost:8080/",
          "height": 228
        },
        "outputId": "39e3ad42-462d-40c5-91ec-48273ba56f7b"
      },
      "source": [
        "#evaluating model\n",
        "fpr2, tpr2, thresholds2 = metrics.roc_curve(y_valid, rf_best_pred)\n",
        "print('AUC: ', metrics.auc(fpr2, tpr2))\n",
        "print(classification_report(y_valid, rf_best_pred))\n",
        "print(confusion_matrix(y_valid, rf_best_pred))"
      ],
      "execution_count": 199,
      "outputs": [
        {
          "output_type": "stream",
          "text": [
            "AUC:  0.7233845247362047\n",
            "              precision    recall  f1-score   support\n",
            "\n",
            "           0       0.68      0.49      0.57       615\n",
            "           1       0.90      0.95      0.93      3008\n",
            "\n",
            "    accuracy                           0.87      3623\n",
            "   macro avg       0.79      0.72      0.75      3623\n",
            "weighted avg       0.86      0.87      0.87      3623\n",
            "\n",
            "[[ 304  311]\n",
            " [ 143 2865]]\n"
          ],
          "name": "stdout"
        }
      ]
    },
    {
      "cell_type": "markdown",
      "metadata": {
        "id": "2dSb3BnH9TgA",
        "colab_type": "text"
      },
      "source": [
        "# XG Boost Model Using All Predictors"
      ]
    },
    {
      "cell_type": "code",
      "metadata": {
        "id": "A0kj9PCRtw0B",
        "colab_type": "code",
        "colab": {}
      },
      "source": [
        "from xgboost import XGBClassifier\n",
        "xgb = XGBClassifier()\n",
        "xgb.fit(X_train, y_train)\n",
        "xgb_pred = xgb.predict(X_valid)"
      ],
      "execution_count": 200,
      "outputs": []
    },
    {
      "cell_type": "code",
      "metadata": {
        "id": "AIGmYlwu9imZ",
        "colab_type": "code",
        "colab": {
          "base_uri": "https://localhost:8080/",
          "height": 228
        },
        "outputId": "6717ce20-d3e2-4456-e349-b7f4808c627b"
      },
      "source": [
        "#evaluating model\n",
        "fpr_xgb, tpr_xgb, thresholds_xgb = metrics.roc_curve(y_valid, xgb_pred)\n",
        "print('AUC: ', metrics.auc(fpr_xgb, tpr_xgb))\n",
        "print(classification_report(y_valid, xgb_pred))\n",
        "print(confusion_matrix(y_valid, xgb_pred))"
      ],
      "execution_count": 201,
      "outputs": [
        {
          "output_type": "stream",
          "text": [
            "AUC:  0.806473793461339\n",
            "              precision    recall  f1-score   support\n",
            "\n",
            "           0       0.46      0.81      0.58       615\n",
            "           1       0.95      0.80      0.87      3008\n",
            "\n",
            "    accuracy                           0.80      3623\n",
            "   macro avg       0.71      0.81      0.73      3623\n",
            "weighted avg       0.87      0.80      0.82      3623\n",
            "\n",
            "[[ 498  117]\n",
            " [ 592 2416]]\n"
          ],
          "name": "stdout"
        }
      ]
    },
    {
      "cell_type": "code",
      "metadata": {
        "id": "n5EHtf4Y_HLF",
        "colab_type": "code",
        "colab": {
          "base_uri": "https://localhost:8080/",
          "height": 910
        },
        "outputId": "18ddc259-0314-4b0c-b83f-561397abc7ef"
      },
      "source": [
        "#plotting feature importances\n",
        "import xgboost\n",
        "f, ax = plt.subplots(figsize = (20,15))\n",
        "xgboost.plot_importance(xgb, max_num_features = 75, ax = ax)"
      ],
      "execution_count": 211,
      "outputs": [
        {
          "output_type": "execute_result",
          "data": {
            "text/plain": [
              "<matplotlib.axes._subplots.AxesSubplot at 0x7ff04ee25e10>"
            ]
          },
          "metadata": {
            "tags": []
          },
          "execution_count": 211
        },
        {
          "output_type": "display_data",
          "data": {
            "image/png": "[encoded data removed]",
            "text/plain": [
              "<Figure size 1440x1080 with 1 Axes>"
            ]
          },
          "metadata": {
            "tags": [],
            "needs_background": "light"
          }
        }
      ]
    },
    {
      "cell_type": "markdown",
      "metadata": {
        "id": "_HGYkHEo-kgO",
        "colab_type": "text"
      },
      "source": [
        "#XG Boost Model Using 500 Best Predictors"
      ]
    },
    {
      "cell_type": "code",
      "metadata": {
        "id": "1cAcg1QUBVZ4",
        "colab_type": "code",
        "colab": {
          "base_uri": "https://localhost:8080/",
          "height": 125
        },
        "outputId": "1dccd3f2-b8cf-41ce-9a95-9ce22ab78e5a"
      },
      "source": [
        "# getting feature importances for xgboost model\n",
        "name_list_xgb = list()\n",
        "score_list_xgb = list()\n",
        "\n",
        "for name, score in zip(X.columns, xgb.feature_importances_):\n",
        "  a = name\n",
        "  b = score\n",
        "  name_list_xgb.append(a)\n",
        "  score_list_xgb.append(b)\n",
        "\n",
        "print('Name: \\n', name_list_xgb[:10], '\\n')\n",
        "print('Score: \\n', score_list_xgb[:10])"
      ],
      "execution_count": 203,
      "outputs": [
        {
          "output_type": "stream",
          "text": [
            "Name: \n",
            " ['Age Binned_Age Under 30', 'Age Binned_Age 30-39', 'Age Binned_Age 40-49', 'Age Binned_Age 50-59', 'Age Binned_Age 60+', 'Division Name_General', 'Division Name_General Petite', 'Division Name_Initmates', 'Department Name_Bottoms', 'Department Name_Dresses'] \n",
            "\n",
            "Score: \n",
            " [0.0, 0.00066061225, 0.0011170398, 0.00070922176, 0.0009815766, 0.00017828417, 0.0, 0.0, 0.0023160512, 0.0]\n"
          ],
          "name": "stdout"
        }
      ]
    },
    {
      "cell_type": "code",
      "metadata": {
        "id": "PimkrJrzCE6g",
        "colab_type": "code",
        "colab": {}
      },
      "source": [
        "#creating dataframe of xgboost feature importances\n",
        "xgb_feature_dict = {'Name': name_list_xgb, 'Score': score_list_xgb}\n",
        "xgb_features = pd.DataFrame(xgb_feature_dict)\n",
        "\n",
        "xgb_features.sort_values(by = 'Score', ascending = False, inplace = True)"
      ],
      "execution_count": 204,
      "outputs": []
    },
    {
      "cell_type": "code",
      "metadata": {
        "id": "HltGgfVlEJ57",
        "colab_type": "code",
        "colab": {}
      },
      "source": [
        "#using only 500 best predictors from original xgb model\n",
        "best_predictors_xgb = xgb_features.Name[:500]\n",
        "\n",
        "X_train_best = X_train[best_predictors_xgb]\n",
        "X_valid_best = X_valid[best_predictors_xgb]\n",
        "X_test_best = X_train[best_predictors_xgb]"
      ],
      "execution_count": 213,
      "outputs": []
    },
    {
      "cell_type": "code",
      "metadata": {
        "id": "zdQ_DZ2bFXmr",
        "colab_type": "code",
        "colab": {}
      },
      "source": [
        "bst = XGBClassifier()\n",
        "bst.fit(X_train_best, y_train)\n",
        "bst_pred = bst.predict(X_valid_best)"
      ],
      "execution_count": 214,
      "outputs": []
    },
    {
      "cell_type": "code",
      "metadata": {
        "id": "dW5cdI4oFlgP",
        "colab_type": "code",
        "colab": {
          "base_uri": "https://localhost:8080/",
          "height": 228
        },
        "outputId": "8504e633-3929-4bee-d90d-a70342605a7b"
      },
      "source": [
        "#evaluating model\n",
        "fpr_bst, tpr_bst, thresholds_bst = metrics.roc_curve(y_valid, bst_pred)\n",
        "print('AUC: ', metrics.auc(fpr_bst, tpr_bst))\n",
        "print(classification_report(y_valid, bst_pred))\n",
        "print(confusion_matrix(y_valid, bst_pred))"
      ],
      "execution_count": 215,
      "outputs": [
        {
          "output_type": "stream",
          "text": [
            "AUC:  0.8068062402698496\n",
            "              precision    recall  f1-score   support\n",
            "\n",
            "           0       0.46      0.81      0.58       615\n",
            "           1       0.95      0.80      0.87      3008\n",
            "\n",
            "    accuracy                           0.80      3623\n",
            "   macro avg       0.71      0.81      0.73      3623\n",
            "weighted avg       0.87      0.80      0.82      3623\n",
            "\n",
            "[[ 498  117]\n",
            " [ 590 2418]]\n"
          ],
          "name": "stdout"
        }
      ]
    },
    {
      "cell_type": "markdown",
      "metadata": {
        "id": "-OUzpz9TJWU7",
        "colab_type": "text"
      },
      "source": [
        "# Naive Bayes"
      ]
    },
    {
      "cell_type": "code",
      "metadata": {
        "id": "Bv81Gqf7GcxY",
        "colab_type": "code",
        "colab": {}
      },
      "source": [
        "# Naive bayes multinomial\n",
        "clf = MultinomialNB()\n",
        "clf.fit(X_train, y_train)\n",
        "nb_pred = clf.predict(X_valid)"
      ],
      "execution_count": 217,
      "outputs": []
    },
    {
      "cell_type": "code",
      "metadata": {
        "id": "MvO4HyQmJbxx",
        "colab_type": "code",
        "colab": {
          "base_uri": "https://localhost:8080/",
          "height": 228
        },
        "outputId": "d148138a-25ce-4210-b6e5-edb2dd03b2b3"
      },
      "source": [
        "# evaluating model\n",
        "fpr_nb, tpr_nb, thresholds_nb = metrics.roc_curve(y_valid, nb_pred)\n",
        "print('AUC: ', metrics.auc(fpr_nb, tpr_nb))\n",
        "print(classification_report(y_valid, nb_pred))\n",
        "print(confusion_matrix(y_valid, nb_pred))"
      ],
      "execution_count": 218,
      "outputs": [
        {
          "output_type": "stream",
          "text": [
            "AUC:  0.8519563008130081\n",
            "              precision    recall  f1-score   support\n",
            "\n",
            "           0       0.53      0.86      0.66       615\n",
            "           1       0.97      0.84      0.90      3008\n",
            "\n",
            "    accuracy                           0.85      3623\n",
            "   macro avg       0.75      0.85      0.78      3623\n",
            "weighted avg       0.89      0.85      0.86      3623\n",
            "\n",
            "[[ 529   86]\n",
            " [ 470 2538]]\n"
          ],
          "name": "stdout"
        }
      ]
    }
  ]
}